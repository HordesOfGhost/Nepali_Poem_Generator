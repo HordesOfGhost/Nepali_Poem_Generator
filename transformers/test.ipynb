{
 "cells": [
  {
   "cell_type": "code",
   "execution_count": 7,
   "metadata": {},
   "outputs": [],
   "source": [
    "from models import *"
   ]
  },
  {
   "cell_type": "code",
   "execution_count": 8,
   "metadata": {},
   "outputs": [],
   "source": [
    "model = AutoregressiveWrapper\n",
    "tr = model.load_checkpoint('./trained_model')"
   ]
  },
  {
   "cell_type": "code",
   "execution_count": 9,
   "metadata": {},
   "outputs": [],
   "source": [
    "tokenizer = NepaliTokenizer()"
   ]
  },
  {
   "cell_type": "code",
   "execution_count": 10,
   "metadata": {},
   "outputs": [
    {
     "name": "stdout",
     "output_type": "stream",
     "text": [
      "ननिभ्ने सौ,। हृदय हुम रचम्मा चिन्दाली,। बक्र्यो जागाउछ प\n"
     ]
    }
   ],
   "source": [
    "\n",
    "max_tokens_to_generate = 50\n",
    "generator = Generator(tr, tokenizer)\n",
    "generated_text = generator.generate(\n",
    "    max_tokens_to_generate=max_tokens_to_generate,\n",
    "    prompt=\"ननिभ्ने \",\n",
    "    padding_token=tokenizer.character_to_token('<pad>')\n",
    ")\n",
    "print(generated_text.replace('<pad>', ''))"
   ]
  },
  {
   "cell_type": "code",
   "execution_count": 11,
   "metadata": {},
   "outputs": [],
   "source": [
    "import pickle"
   ]
  },
  {
   "cell_type": "code",
   "execution_count": 12,
   "metadata": {},
   "outputs": [
    {
     "name": "stdout",
     "output_type": "stream",
     "text": [
      "[0.22571846136549636, 0.11842674910303877]\n"
     ]
    }
   ],
   "source": [
    "file_path = 'loss_per_epoch.pkl'\n",
    "\n",
    "# Load the data from the pickle file\n",
    "with open(file_path, 'rb') as file:\n",
    "    data = pickle.load(file)\n",
    "\n",
    "# Now, 'data' contains the information stored in the pickle file\n",
    "print(data)"
   ]
  },
  {
   "cell_type": "code",
   "execution_count": null,
   "metadata": {},
   "outputs": [],
   "source": []
  }
 ],
 "metadata": {
  "kernelspec": {
   "display_name": "galli_maps",
   "language": "python",
   "name": "python3"
  },
  "language_info": {
   "codemirror_mode": {
    "name": "ipython",
    "version": 3
   },
   "file_extension": ".py",
   "mimetype": "text/x-python",
   "name": "python",
   "nbconvert_exporter": "python",
   "pygments_lexer": "ipython3",
   "version": "3.8.17"
  }
 },
 "nbformat": 4,
 "nbformat_minor": 2
}
